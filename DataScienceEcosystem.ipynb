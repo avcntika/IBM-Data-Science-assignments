{
 "cells": [
  {
   "cell_type": "markdown",
   "id": "09a1aabe",
   "metadata": {},
   "source": [
    "# Data Science Tools and Ecosystem"
   ]
  },
  {
   "cell_type": "markdown",
   "id": "15738dd7",
   "metadata": {},
   "source": [
    "In this notebook, Data Science Tools and Ecosystem are summarized."
   ]
  },
  {
   "cell_type": "markdown",
   "id": "443ffc45",
   "metadata": {},
   "source": [
    "#### ->  Some of the popular languages that Data Scientists use are:\n",
    "    \n",
    "    1) Python\n",
    "    2) R\n",
    "    3) C++\n",
    "    4) Julia"
   ]
  },
  {
   "cell_type": "markdown",
   "id": "7f113fa3",
   "metadata": {},
   "source": [
    "#### -> Some of the commonly used libraries used by Data Scientists include:\n",
    "\n",
    "    1) Pandas\n",
    "    2) Numpy\n",
    "    3) Matplotlib"
   ]
  },
  {
   "cell_type": "markdown",
   "id": "f5afc034",
   "metadata": {},
   "source": [
    "#### -> Some tools for data science:\n",
    "\n",
    "| Data Science Tools | \n",
    "| --- |\n",
    "| Python | \n",
    "| --- |\n",
    "| R | \n",
    "| --- |\n",
    "| SQL | "
   ]
  },
  {
   "cell_type": "markdown",
   "id": "a2c30026",
   "metadata": {},
   "source": [
    "### Below is an example of evaluating arithmetic expressions in Python:\n",
    "It is a simple arithmetic expression to mutiply then add integers"
   ]
  },
  {
   "cell_type": "code",
   "execution_count": 1,
   "id": "10e3b101",
   "metadata": {},
   "outputs": [
    {
     "data": {
      "text/plain": [
       "17"
      ]
     },
     "execution_count": 1,
     "metadata": {},
     "output_type": "execute_result"
    }
   ],
   "source": [
    "(3*4)+5"
   ]
  },
  {
   "cell_type": "markdown",
   "id": "a0fbced6",
   "metadata": {},
   "source": [
    "### the following code snippet will convert 200 minutes to hours by diving by 60"
   ]
  },
  {
   "cell_type": "code",
   "execution_count": 2,
   "id": "c3d9fdbc",
   "metadata": {},
   "outputs": [
    {
     "name": "stdout",
     "output_type": "stream",
     "text": [
      "Thus, the number of hours is: 3.3333333333333335\n"
     ]
    }
   ],
   "source": [
    "answer = 200/60\n",
    "print('Thus, the number of hours is:', answer)"
   ]
  },
  {
   "cell_type": "markdown",
   "id": "5ba9f82a",
   "metadata": {},
   "source": [
    "### Objectives of this assignment:\n",
    "   * getting familiar with Jupyter notebook\n",
    "   * Listing popular tools for data science\n",
    "   * Listing popular languages for data science\n",
    "   * evaluating arithmetic expressions"
   ]
  },
  {
   "cell_type": "markdown",
   "id": "bef9997b",
   "metadata": {},
   "source": [
    "## Author:\n",
    "\n",
    "Avantika Bhattacharya\n",
    "\n"
   ]
  },
  {
   "cell_type": "code",
   "execution_count": null,
   "id": "21518ea1",
   "metadata": {},
   "outputs": [],
   "source": []
  }
 ],
 "metadata": {
  "kernelspec": {
   "display_name": "Python 3",
   "language": "python",
   "name": "python3"
  },
  "language_info": {
   "codemirror_mode": {
    "name": "ipython",
    "version": 3
   },
   "file_extension": ".py",
   "mimetype": "text/x-python",
   "name": "python",
   "nbconvert_exporter": "python",
   "pygments_lexer": "ipython3",
   "version": "3.8.8"
  }
 },
 "nbformat": 4,
 "nbformat_minor": 5
}
